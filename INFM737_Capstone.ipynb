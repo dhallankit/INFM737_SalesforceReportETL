{
  "nbformat": 4,
  "nbformat_minor": 0,
  "metadata": {
    "kernelspec": {
      "display_name": "Python 3",
      "language": "python",
      "name": "python3"
    },
    "language_info": {
      "codemirror_mode": {
        "name": "ipython",
        "version": 3
      },
      "file_extension": ".py",
      "mimetype": "text/x-python",
      "name": "python",
      "nbconvert_exporter": "python",
      "pygments_lexer": "ipython3",
      "version": "3.7.4"
    },
    "colab": {
      "name": "INFM737_Capstone.ipynb",
      "provenance": [],
      "collapsed_sections": [],
      "include_colab_link": true
    }
  },
  "cells": [
    {
      "cell_type": "markdown",
      "metadata": {
        "id": "view-in-github",
        "colab_type": "text"
      },
      "source": [
        "<a href=\"https://colab.research.google.com/github/dhallankit/INFM737_SalesforceReportETL/blob/master/INFM737_Capstone.ipynb\" target=\"_parent\"><img src=\"https://colab.research.google.com/assets/colab-badge.svg\" alt=\"Open In Colab\"/></a>"
      ]
    },
    {
      "cell_type": "markdown",
      "metadata": {
        "id": "V39O6qJS0edq",
        "colab_type": "text"
      },
      "source": [
        "# Salesforce Report ETL Process\n",
        "\n",
        "Select Runtime from the menu and click Run all"
      ]
    },
    {
      "cell_type": "code",
      "metadata": {
        "id": "5Ste_o3SXkS9",
        "colab_type": "code",
        "colab": {}
      },
      "source": [
        "#Importing Essential Libraries\n",
        "\n",
        "import pandas as pd\n",
        "import io\n",
        "import pdb\n",
        "from datetime import datetime"
      ],
      "execution_count": 0,
      "outputs": []
    },
    {
      "cell_type": "markdown",
      "metadata": {
        "id": "Q2vKAQM00Nop",
        "colab_type": "text"
      },
      "source": [
        "## Choose file to be uploaded\n",
        "\n",
        "Please name the file as \"Activity Log with Companies.csv\""
      ]
    },
    {
      "cell_type": "code",
      "metadata": {
        "id": "snbTjtpjX0dr",
        "colab_type": "code",
        "outputId": "8d89dad9-bc12-4e04-f7fd-ded7e45b0fd1",
        "colab": {
          "resources": {
            "http://localhost:8080/nbextensions/google.colab/files.js": {
              "data": "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",
              "ok": true,
              "headers": [
                [
                  "content-type",
                  "application/javascript"
                ]
              ],
              "status": 200,
              "status_text": ""
            }
          },
          "base_uri": "https://localhost:8080/",
          "height": 74
        }
      },
      "source": [
        "from google.colab import files\n",
        "uploaded = files.upload()"
      ],
      "execution_count": 0,
      "outputs": [
        {
          "output_type": "display_data",
          "data": {
            "text/html": [
              "\n",
              "     <input type=\"file\" id=\"files-f94897ad-6f47-41f6-8083-cc961f830ef5\" name=\"files[]\" multiple disabled />\n",
              "     <output id=\"result-f94897ad-6f47-41f6-8083-cc961f830ef5\">\n",
              "      Upload widget is only available when the cell has been executed in the\n",
              "      current browser session. Please rerun this cell to enable.\n",
              "      </output>\n",
              "      <script src=\"/nbextensions/google.colab/files.js\"></script> "
            ],
            "text/plain": [
              "<IPython.core.display.HTML object>"
            ]
          },
          "metadata": {
            "tags": []
          }
        },
        {
          "output_type": "stream",
          "text": [
            "Saving Activity Log with Companies.csv to Activity Log with Companies.csv\n"
          ],
          "name": "stdout"
        }
      ]
    },
    {
      "cell_type": "code",
      "metadata": {
        "id": "G-ndpNHWXkTF",
        "colab_type": "code",
        "colab": {}
      },
      "source": [
        "#Loading the file into a dataframe\n",
        "impact_record = pd.read_csv(io.BytesIO(uploaded['Activity Log with Companies.csv']), encoding= 'unicode_escape')"
      ],
      "execution_count": 0,
      "outputs": []
    },
    {
      "cell_type": "code",
      "metadata": {
        "id": "01m50wbXXkTN",
        "colab_type": "code",
        "outputId": "83472da8-e075-4c48-d551-cfd2726a954d",
        "colab": {
          "base_uri": "https://localhost:8080/",
          "height": 204
        }
      },
      "source": [
        "#top 10 rows of the report\n",
        "impact_record.head()"
      ],
      "execution_count": 0,
      "outputs": [
        {
          "output_type": "execute_result",
          "data": {
            "text/html": [
              "<div>\n",
              "<style scoped>\n",
              "    .dataframe tbody tr th:only-of-type {\n",
              "        vertical-align: middle;\n",
              "    }\n",
              "\n",
              "    .dataframe tbody tr th {\n",
              "        vertical-align: top;\n",
              "    }\n",
              "\n",
              "    .dataframe thead th {\n",
              "        text-align: right;\n",
              "    }\n",
              "</style>\n",
              "<table border=\"1\" class=\"dataframe\">\n",
              "  <thead>\n",
              "    <tr style=\"text-align: right;\">\n",
              "      <th></th>\n",
              "      <th>Subject</th>\n",
              "      <th>Account ID</th>\n",
              "      <th>Account Classification</th>\n",
              "      <th>DB Activity Type</th>\n",
              "      <th>Date</th>\n",
              "      <th>Account Name</th>\n",
              "      <th>Activity Type</th>\n",
              "    </tr>\n",
              "  </thead>\n",
              "  <tbody>\n",
              "    <tr>\n",
              "      <th>0</th>\n",
              "      <td>Email: MAVRIC 2020</td>\n",
              "      <td>0013900001mtbyd</td>\n",
              "      <td>NGO</td>\n",
              "      <td>Email</td>\n",
              "      <td>1/15/2020</td>\n",
              "      <td>AARP</td>\n",
              "      <td>Sponsorship Prospect</td>\n",
              "    </tr>\n",
              "    <tr>\n",
              "      <th>1</th>\n",
              "      <td>Meeting</td>\n",
              "      <td>0013p00001oqRW6</td>\n",
              "      <td>Startup</td>\n",
              "      <td>Meeting</td>\n",
              "      <td>2/6/2020</td>\n",
              "      <td>ABSI Defense</td>\n",
              "      <td>Follow-up Meeting; Sponsorship Prospect; Techn...</td>\n",
              "    </tr>\n",
              "    <tr>\n",
              "      <th>2</th>\n",
              "      <td>Meeting</td>\n",
              "      <td>0013900001mtbyg</td>\n",
              "      <td>Corp</td>\n",
              "      <td>Meeting</td>\n",
              "      <td>1/21/2020</td>\n",
              "      <td>Accenture</td>\n",
              "      <td>Follow-up Meeting; Joint Research Project Support</td>\n",
              "    </tr>\n",
              "    <tr>\n",
              "      <th>3</th>\n",
              "      <td>Meeting</td>\n",
              "      <td>0013900001mtbyg</td>\n",
              "      <td>Corp</td>\n",
              "      <td>Meeting</td>\n",
              "      <td>10/24/2019</td>\n",
              "      <td>Accenture</td>\n",
              "      <td>Initial Meeting</td>\n",
              "    </tr>\n",
              "    <tr>\n",
              "      <th>4</th>\n",
              "      <td>Meeting</td>\n",
              "      <td>0013900001mtbyg</td>\n",
              "      <td>Corp</td>\n",
              "      <td>Meeting</td>\n",
              "      <td>11/1/2019</td>\n",
              "      <td>Accenture</td>\n",
              "      <td>Initial Meeting; Joint Research Project Suppor...</td>\n",
              "    </tr>\n",
              "  </tbody>\n",
              "</table>\n",
              "</div>"
            ],
            "text/plain": [
              "              Subject  ...                                      Activity Type\n",
              "0  Email: MAVRIC 2020  ...                               Sponsorship Prospect\n",
              "1             Meeting  ...  Follow-up Meeting; Sponsorship Prospect; Techn...\n",
              "2             Meeting  ...  Follow-up Meeting; Joint Research Project Support\n",
              "3             Meeting  ...                                    Initial Meeting\n",
              "4             Meeting  ...  Initial Meeting; Joint Research Project Suppor...\n",
              "\n",
              "[5 rows x 7 columns]"
            ]
          },
          "metadata": {
            "tags": []
          },
          "execution_count": 4
        }
      ]
    },
    {
      "cell_type": "code",
      "metadata": {
        "id": "thX9ep-pfom7",
        "colab_type": "code",
        "colab": {}
      },
      "source": [
        "activity_count  = {}\n",
        "for i, row in impact_record.iterrows():\n",
        "  if row['Account Name'] in activity_count:\n",
        "    activity_count[row['Account Name']] +=1\n",
        "  else:\n",
        "    activity_count[row['Account Name']] = 1"
      ],
      "execution_count": 0,
      "outputs": []
    },
    {
      "cell_type": "code",
      "metadata": {
        "id": "UBv2h7BTtvdt",
        "colab_type": "code",
        "colab": {}
      },
      "source": [
        "impact_record['Activity Type'] = impact_record['Activity Type'].str.split('; ')\n",
        "s = impact_record.apply(lambda x: pd.Series(x['Activity Type']), axis=1).stack().reset_index(level=1, drop=True)\n",
        "s.name = 'Activity Type'\n",
        "impact_record = impact_record.drop('Activity Type', axis = 1).join(s).reset_index(drop=True)"
      ],
      "execution_count": 0,
      "outputs": []
    },
    {
      "cell_type": "code",
      "metadata": {
        "id": "sHvCqoa2XkTm",
        "colab_type": "code",
        "colab": {}
      },
      "source": [
        "common_field = ['Account ID', 'Account Classification', 'Date', 'Account Name', 'DB Activity Type']\n",
        "\n",
        "column_names = [\"Account Name\", \"Account ID\", \"Account Classification\", \"DB Activity Type\", \"Date\", \"# of Technical Assistance Meetings\",\n",
        "               \"# of Mentoring & Coaching Sessions\", \"# of Meetings with Potential Investors\", \"# of SBIR Award Applications Supported\",\n",
        "               \"# of Joint Research Projects\", \"Business Assistance\", \"Job Search\", \"# of Patent Applications in Process\", \"# of Patents Held\", \"# of Employees with Increased Capacity\",\n",
        "               \"# of Products Launched\", \"# of Concepts Reviewed / Supported\", \"Funding Decks/Applications Reviewed\", \"Outreach Events/ Partnership\",\n",
        "               \"Amt of Capital Raised By Loans & Grants\", \"Amt of Investment Capital Raised\", \"Past Fiscal Year Business Sales\", \"Total Business Sales\",\n",
        "               \"# of Revenue Opportunities Presented\", \"# of Speakers\", \"Total Number of Activities\", \"Tracking Date\"]\n",
        "\n",
        "df = pd.DataFrame(columns = column_names)"
      ],
      "execution_count": 0,
      "outputs": []
    },
    {
      "cell_type": "code",
      "metadata": {
        "id": "UM3DQLfSXkTu",
        "colab_type": "code",
        "colab": {}
      },
      "source": [
        "activity_dict = {'Application Support':'Funding Decks/Applications Reviewed',\n",
        "'Case Request Support':'# of Concepts Reviewed / Supported',\n",
        "'Funding Decks / Application Review':'Funding Decks/Applications Reviewed',\n",
        "'Joint Research Project Support':'# of Joint Research Projects',\n",
        "'Legal Advice':'Business Assistance',\n",
        "'Marketing':'Business Assistance',\n",
        "'Mentoring & Coaching':'# of Mentoring & Coaching Sessions',\n",
        "'Potential Investors':'# of Meetings with Potential Investors',\n",
        "'SBIR':'# of SBIR Award Applications Supported',\n",
        "'Technical Assistance':'# of Technical Assistance Meetings',\n",
        "'Conference Organization':'Outreach Events/ Partnership',\n",
        "'Connection Request':'Business Assistance',\n",
        "'Employment Opp':'# of Employees with Increased Capacity',\n",
        "'Market Advice':'Business Assistance',\n",
        "'Outreach Event':'Outreach Events/ Partnership',\n",
        "'Partnership Opportunity':'Outreach Events/ Partnership',\n",
        "'Patent Application':'# of Patent Applications in Process',\n",
        "'Products Launched':'# of Products Launched',\n",
        "'Revenue Opp':'# of Revenue Opportunities Presented',\n",
        "'Seeking Employment':'Job Search',\n",
        "'Sponsorship Prospect':'Outreach Events/ Partnership',\n",
        "'Vendor Search':'Business Assistance'}\n",
        "activity_field = list(activity_dict.values())"
      ],
      "execution_count": 0,
      "outputs": []
    },
    {
      "cell_type": "code",
      "metadata": {
        "id": "h-QGqm7hXkTz",
        "colab_type": "code",
        "colab": {}
      },
      "source": [
        "no_mapping_field = [\"# of Patents Held\", \"# of Employees with Increased Capacity\", \"Amt of Capital Raised By Loans & Grants\", \"Amt of Investment Capital Raised\", \"Past Fiscal Year Business Sales\", \"Total Business Sales\",\n",
        "                \"# of Speakers\", \"Total Number of Activities\"] \n",
        "\n",
        "activity_df = pd.DataFrame(columns=activity_field+no_mapping_field)\n",
        "\n",
        "account_name_unique_list = impact_record['Account Name'].unique()\n",
        "for account_name in account_name_unique_list:\n",
        "    filt_record = impact_record[impact_record['Account Name'] == account_name]\n",
        "    filt_record.sort_values(by = 'Date', ascending=False)\n",
        "    # pdb.set_trace()\n",
        "    df = pd.concat([df, filt_record[common_field].head(1)])\n",
        "\n",
        "df[activity_field+no_mapping_field]=0\n"
      ],
      "execution_count": 0,
      "outputs": []
    },
    {
      "cell_type": "code",
      "metadata": {
        "id": "U5uKs3qMXkT5",
        "colab_type": "code",
        "colab": {}
      },
      "source": [
        "for account_name in account_name_unique_list:\n",
        "    for akey,aval in activity_dict.items():\n",
        "        mycnt = len(impact_record[(impact_record['Account Name'] == account_name) & (impact_record['Activity Type'] == akey)])\n",
        "        # pdb.set_trace()\n",
        "        df.loc[df['Account Name'] == account_name, aval] += mycnt"
      ],
      "execution_count": 0,
      "outputs": []
    },
    {
      "cell_type": "code",
      "metadata": {
        "id": "DbY78xO3XkT_",
        "colab_type": "code",
        "colab": {}
      },
      "source": [
        "track_series = []\n",
        "for date_string in df['Date']:\n",
        "    date_obj = datetime.strptime(date_string, '%m/%d/%Y')\n",
        "    if date_obj.month >= 10:\n",
        "        tr_year = date_obj.year+1\n",
        "    else:\n",
        "        tr_year = date_obj.year\n",
        "    if date_obj.month >= 4 and date_obj.month <= 9:\n",
        "        tr_month = 9\n",
        "        tr_day = 30\n",
        "    else:\n",
        "        tr_month = 3\n",
        "        tr_day = 31\n",
        "    track_series.append(f\"{tr_month}/{tr_day}/{tr_year}\")\n",
        "        \n",
        "        \n",
        "df['Tracking Date'] = track_series\n",
        "df.replace(0, '', inplace=True)"
      ],
      "execution_count": 0,
      "outputs": []
    },
    {
      "cell_type": "code",
      "metadata": {
        "id": "9mbuY530m9F0",
        "colab_type": "code",
        "colab": {}
      },
      "source": [
        "for i, row in df.iterrows():\n",
        "  row['Total Number of Activities'] = activity_count[row['Account Name']]"
      ],
      "execution_count": 0,
      "outputs": []
    },
    {
      "cell_type": "code",
      "metadata": {
        "id": "tylWK7a2XkUM",
        "colab_type": "code",
        "colab": {}
      },
      "source": [
        "#This block exports the file with all companies no matter if they had activities or not\n",
        "latest_tracking_date = df['Tracking Date'][1] \n",
        "file_date = datetime.strptime(latest_tracking_date, '%m/%d/%Y')\n",
        "file_name = (f\"Impact Report {file_date.month}-{file_date.day}-{file_date.year}.csv\")\n",
        "\n",
        "df.to_csv(file_name, index=None, header = True)\n",
        "files.download(file_name)\n"
      ],
      "execution_count": 0,
      "outputs": []
    },
    {
      "cell_type": "code",
      "metadata": {
        "id": "zlnQvZaFXkUQ",
        "colab_type": "code",
        "outputId": "359c2f36-0ebc-48d9-a899-9dd9569b882e",
        "colab": {
          "base_uri": "https://localhost:8080/",
          "height": 71
        }
      },
      "source": [
        "#This block only exports companies with activities\n",
        "df2 = df.replace(to_replace = '', value=pd.np.nan)\n",
        "df2.dropna(subset=['# of Technical Assistance Meetings',\n",
        "       '# of Mentoring & Coaching Sessions',\n",
        "       '# of Meetings with Potential Investors',\n",
        "       '# of SBIR Award Applications Supported',\n",
        "       '# of Joint Research Projects', 'Business Assistance', 'Job Search',\n",
        "       '# of Patent Applications in Process', '# of Patents Held',\n",
        "       '# of Employees with Increased Capacity', '# of Products Launched',\n",
        "       '# of Concepts Reviewed / Supported',\n",
        "       'Funding Decks/Applications Reviewed', 'Outreach Events/ Partnership',\n",
        "       'Amt of Capital Raised By Loans & Grants',\n",
        "       'Amt of Investment Capital Raised', 'Past Fiscal Year Business Sales',\n",
        "       'Total Business Sales', '# of Revenue Opportunities Presented',\n",
        "       '# of Speakers'], how= 'all', inplace=True)\n",
        "df2.to_csv(str(file_name+'_Only Companies with Activities'), index=None, header = True)\n",
        "files.download(str(file_name+'_Only Companies with Activities'))"
      ],
      "execution_count": 0,
      "outputs": [
        {
          "output_type": "stream",
          "text": [
            "/usr/local/lib/python3.6/dist-packages/ipykernel_launcher.py:1: FutureWarning: The pandas.np module is deprecated and will be removed from pandas in a future version. Import numpy directly instead\n",
            "  \"\"\"Entry point for launching an IPython kernel.\n"
          ],
          "name": "stderr"
        }
      ]
    }
  ]
}